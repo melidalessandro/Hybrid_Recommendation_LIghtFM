{
  "nbformat": 4,
  "nbformat_minor": 0,
  "metadata": {
    "colab": {
      "name": "Bayer_LightFM Optimizado.ipynb",
      "provenance": [],
      "collapsed_sections": [],
      "toc_visible": true
    },
    "kernelspec": {
      "display_name": "Python 3",
      "language": "python",
      "name": "python3"
    },
    "language_info": {
      "codemirror_mode": {
        "name": "ipython",
        "version": 3
      },
      "file_extension": ".py",
      "mimetype": "text/x-python",
      "name": "python",
      "nbconvert_exporter": "python",
      "pygments_lexer": "ipython3",
      "version": "3.9.0"
    },
    "toc": {
      "base_numbering": 1,
      "nav_menu": {},
      "number_sections": true,
      "sideBar": true,
      "skip_h1_title": false,
      "title_cell": "Table of Contents",
      "title_sidebar": "Contents",
      "toc_cell": false,
      "toc_position": {},
      "toc_section_display": true,
      "toc_window_display": false
    },
    "varInspector": {
      "cols": {
        "lenName": 16,
        "lenType": 16,
        "lenVar": 40
      },
      "kernels_config": {
        "python": {
          "delete_cmd_postfix": "",
          "delete_cmd_prefix": "del ",
          "library": "var_list.py",
          "varRefreshCmd": "print(var_dic_list())"
        },
        "r": {
          "delete_cmd_postfix": ") ",
          "delete_cmd_prefix": "rm(",
          "library": "var_list.r",
          "varRefreshCmd": "cat(var_dic_list()) "
        }
      },
      "types_to_exclude": [
        "module",
        "function",
        "builtin_function_or_method",
        "instance",
        "_Feature"
      ],
      "window_display": false
    }
  },
  "cells": [
    {
      "cell_type": "code",
      "metadata": {
        "id": "_wG2EVSHMYm5"
      },
      "source": [
        "! pip install lightfm > /dev/null"
      ],
      "execution_count": null,
      "outputs": []
    },
    {
      "cell_type": "code",
      "metadata": {
        "colab": {
          "base_uri": "https://localhost:8080/"
        },
        "id": "TnE1Vad7qRtb",
        "outputId": "028c1698-fead-453c-eef7-bb67ca97c242"
      },
      "source": [
        "! pip install scikit-optimize"
      ],
      "execution_count": null,
      "outputs": [
        {
          "output_type": "stream",
          "text": [
            "Collecting scikit-optimize\n",
            "\u001b[?25l  Downloading https://files.pythonhosted.org/packages/8b/03/be33e89f55866065a02e515c5b319304a801a9f1027a9b311a9b1d1f8dc7/scikit_optimize-0.8.1-py2.py3-none-any.whl (101kB)\n",
            "\r\u001b[K     |███▎                            | 10kB 16.7MB/s eta 0:00:01\r\u001b[K     |██████▌                         | 20kB 21.4MB/s eta 0:00:01\r\u001b[K     |█████████▊                      | 30kB 15.7MB/s eta 0:00:01\r\u001b[K     |█████████████                   | 40kB 11.6MB/s eta 0:00:01\r\u001b[K     |████████████████▏               | 51kB 8.0MB/s eta 0:00:01\r\u001b[K     |███████████████████▍            | 61kB 8.1MB/s eta 0:00:01\r\u001b[K     |██████████████████████▊         | 71kB 7.9MB/s eta 0:00:01\r\u001b[K     |██████████████████████████      | 81kB 8.4MB/s eta 0:00:01\r\u001b[K     |█████████████████████████████▏  | 92kB 8.6MB/s eta 0:00:01\r\u001b[K     |████████████████████████████████| 102kB 5.7MB/s \n",
            "\u001b[?25hCollecting pyaml>=16.9\n",
            "  Downloading https://files.pythonhosted.org/packages/15/c4/1310a054d33abc318426a956e7d6df0df76a6ddfa9c66f6310274fb75d42/pyaml-20.4.0-py2.py3-none-any.whl\n",
            "Requirement already satisfied: scipy>=0.19.1 in /usr/local/lib/python3.6/dist-packages (from scikit-optimize) (1.4.1)\n",
            "Requirement already satisfied: numpy>=1.13.3 in /usr/local/lib/python3.6/dist-packages (from scikit-optimize) (1.18.5)\n",
            "Requirement already satisfied: joblib>=0.11 in /usr/local/lib/python3.6/dist-packages (from scikit-optimize) (0.17.0)\n",
            "Requirement already satisfied: scikit-learn>=0.20.0 in /usr/local/lib/python3.6/dist-packages (from scikit-optimize) (0.22.2.post1)\n",
            "Requirement already satisfied: PyYAML in /usr/local/lib/python3.6/dist-packages (from pyaml>=16.9->scikit-optimize) (3.13)\n",
            "Installing collected packages: pyaml, scikit-optimize\n",
            "Successfully installed pyaml-20.4.0 scikit-optimize-0.8.1\n"
          ],
          "name": "stdout"
        }
      ]
    },
    {
      "cell_type": "markdown",
      "metadata": {
        "id": "f1c8U-Se0NYD"
      },
      "source": [
        "https://towardsdatascience.com/how-i-would-explain-building-lightfm-hybrid-recommenders-to-a-5-year-old-b6ee18571309"
      ]
    },
    {
      "cell_type": "code",
      "metadata": {
        "id": "Dj6iKLf9MZSE"
      },
      "source": [
        "import pandas as pd\n",
        "import numpy as np\n",
        "from skopt import forest_minimize\n",
        "from lightfm import LightFM, cross_validation\n",
        "from lightfm import evaluation\n",
        "from lightfm.evaluation import auc_score\n",
        "from lightfm.data import Dataset\n",
        "from scipy import sparse\n",
        "from tqdm import tqdm\n"
      ],
      "execution_count": null,
      "outputs": []
    },
    {
      "cell_type": "code",
      "metadata": {
        "colab": {
          "base_uri": "https://localhost:8080/"
        },
        "id": "f0dmr4BBMbzW",
        "outputId": "16e0bd54-bf74-4810-9bae-6092644f8b62"
      },
      "source": [
        "from google.colab import drive\n",
        "drive.mount('/content/drive')"
      ],
      "execution_count": null,
      "outputs": [
        {
          "output_type": "stream",
          "text": [
            "Drive already mounted at /content/drive; to attempt to forcibly remount, call drive.mount(\"/content/drive\", force_remount=True).\n"
          ],
          "name": "stdout"
        }
      ]
    },
    {
      "cell_type": "code",
      "metadata": {
        "id": "LVZQqYvrMdkj",
        "colab": {
          "base_uri": "https://localhost:8080/",
          "height": 309
        },
        "outputId": "13651752-99ca-473a-c200-e3f913ba7114"
      },
      "source": [
        "data = pd.read_excel('/content/drive/MyDrive/Bayer/data_usecase.xlsx')\r\n",
        "data.head()"
      ],
      "execution_count": null,
      "outputs": [
        {
          "output_type": "execute_result",
          "data": {
            "text/html": [
              "<div>\n",
              "<style scoped>\n",
              "    .dataframe tbody tr th:only-of-type {\n",
              "        vertical-align: middle;\n",
              "    }\n",
              "\n",
              "    .dataframe tbody tr th {\n",
              "        vertical-align: top;\n",
              "    }\n",
              "\n",
              "    .dataframe thead th {\n",
              "        text-align: right;\n",
              "    }\n",
              "</style>\n",
              "<table border=\"1\" class=\"dataframe\">\n",
              "  <thead>\n",
              "    <tr style=\"text-align: right;\">\n",
              "      <th></th>\n",
              "      <th>HCP_id</th>\n",
              "      <th>news_id</th>\n",
              "      <th>Message_id</th>\n",
              "      <th>Message_type</th>\n",
              "      <th>Message_creation_date</th>\n",
              "      <th>Message_TA</th>\n",
              "      <th>news_date</th>\n",
              "      <th>office_or_hospital_based</th>\n",
              "      <th>gender</th>\n",
              "      <th>is_cardiologist</th>\n",
              "      <th>is_gp</th>\n",
              "      <th>years_since_graduation</th>\n",
              "      <th>Message_read</th>\n",
              "      <th>Message_click</th>\n",
              "    </tr>\n",
              "  </thead>\n",
              "  <tbody>\n",
              "    <tr>\n",
              "      <th>0</th>\n",
              "      <td>3569</td>\n",
              "      <td>22</td>\n",
              "      <td>71</td>\n",
              "      <td>Biotech</td>\n",
              "      <td>2019-10-12</td>\n",
              "      <td>Cardio Vascular</td>\n",
              "      <td>2020-08-09</td>\n",
              "      <td>Hospital</td>\n",
              "      <td>False</td>\n",
              "      <td>True</td>\n",
              "      <td>False</td>\n",
              "      <td>10.0</td>\n",
              "      <td>1</td>\n",
              "      <td>0</td>\n",
              "    </tr>\n",
              "    <tr>\n",
              "      <th>1</th>\n",
              "      <td>3569</td>\n",
              "      <td>22</td>\n",
              "      <td>70</td>\n",
              "      <td>Biotech</td>\n",
              "      <td>2018-07-31</td>\n",
              "      <td>Global</td>\n",
              "      <td>2020-08-09</td>\n",
              "      <td>Hospital</td>\n",
              "      <td>False</td>\n",
              "      <td>True</td>\n",
              "      <td>False</td>\n",
              "      <td>10.0</td>\n",
              "      <td>0</td>\n",
              "      <td>0</td>\n",
              "    </tr>\n",
              "    <tr>\n",
              "      <th>2</th>\n",
              "      <td>5941</td>\n",
              "      <td>22</td>\n",
              "      <td>70</td>\n",
              "      <td>Biotech</td>\n",
              "      <td>2018-07-31</td>\n",
              "      <td>Global</td>\n",
              "      <td>2020-08-09</td>\n",
              "      <td>Hospital</td>\n",
              "      <td>True</td>\n",
              "      <td>True</td>\n",
              "      <td>False</td>\n",
              "      <td>10.0</td>\n",
              "      <td>1</td>\n",
              "      <td>1</td>\n",
              "    </tr>\n",
              "    <tr>\n",
              "      <th>3</th>\n",
              "      <td>5941</td>\n",
              "      <td>22</td>\n",
              "      <td>71</td>\n",
              "      <td>Biotech</td>\n",
              "      <td>2019-10-12</td>\n",
              "      <td>Cardio Vascular</td>\n",
              "      <td>2020-08-09</td>\n",
              "      <td>Hospital</td>\n",
              "      <td>True</td>\n",
              "      <td>True</td>\n",
              "      <td>False</td>\n",
              "      <td>10.0</td>\n",
              "      <td>1</td>\n",
              "      <td>1</td>\n",
              "    </tr>\n",
              "    <tr>\n",
              "      <th>4</th>\n",
              "      <td>8262</td>\n",
              "      <td>5</td>\n",
              "      <td>19</td>\n",
              "      <td>Biotech</td>\n",
              "      <td>2018-10-12</td>\n",
              "      <td>Cardio Vascular</td>\n",
              "      <td>2020-07-22</td>\n",
              "      <td>Office</td>\n",
              "      <td>True</td>\n",
              "      <td>True</td>\n",
              "      <td>False</td>\n",
              "      <td>10.0</td>\n",
              "      <td>0</td>\n",
              "      <td>0</td>\n",
              "    </tr>\n",
              "  </tbody>\n",
              "</table>\n",
              "</div>"
            ],
            "text/plain": [
              "   HCP_id  news_id  ...  Message_read Message_click\n",
              "0    3569       22  ...             1             0\n",
              "1    3569       22  ...             0             0\n",
              "2    5941       22  ...             1             1\n",
              "3    5941       22  ...             1             1\n",
              "4    8262        5  ...             0             0\n",
              "\n",
              "[5 rows x 14 columns]"
            ]
          },
          "metadata": {
            "tags": []
          },
          "execution_count": 67
        }
      ]
    },
    {
      "cell_type": "code",
      "metadata": {
        "id": "FW-S_hgqXe_V"
      },
      "source": [
        "def weighted_rating(x):\r\n",
        "    a = x['Message_read']\r\n",
        "    b = x['Message_click']\r\n",
        "    return ((a+b) / 2)"
      ],
      "execution_count": null,
      "outputs": []
    },
    {
      "cell_type": "code",
      "metadata": {
        "id": "wiAVxeeCXgvP"
      },
      "source": [
        "# Feature Engineering\r\n",
        "data['rating'] = data.apply(weighted_rating, axis=1)"
      ],
      "execution_count": null,
      "outputs": []
    },
    {
      "cell_type": "markdown",
      "metadata": {
        "id": "kwB_mcjh9wfG"
      },
      "source": [
        "# User features"
      ]
    },
    {
      "cell_type": "code",
      "metadata": {
        "id": "WmOpzE3URNxv"
      },
      "source": [
        "users = data.loc[:,['HCP_id','office_or_hospital_based','gender','is_cardiologist','is_gp','years_since_graduation']].drop_duplicates(keep='first')"
      ],
      "execution_count": null,
      "outputs": []
    },
    {
      "cell_type": "code",
      "metadata": {
        "id": "M1DW6WhFNhwW"
      },
      "source": [
        "# Creo una lista unica de combinaciones de features\n",
        "uf = []\n",
        "col = ['office_or_hospital_based']*len(users.office_or_hospital_based.unique()) + ['gender']*len(users.gender.unique()) + ['is_cardiologist']*len(users.is_cardiologist.unique()) + ['is_gp']*len(users.is_gp.unique()) + ['years_since_graduation']*len(users.years_since_graduation.unique())\n",
        "unique_f = list(users.office_or_hospital_based.unique()) + list(users.gender.unique()) + list(users.is_cardiologist.unique()) + list(users.is_gp.unique()) + list(users.years_since_graduation.unique())\n",
        "\n",
        "for x,y in zip(col, unique_f):\n",
        "    res = str(x)+ \":\" +str(y)\n",
        "    uf.append(res)\n",
        "    #print(res)"
      ],
      "execution_count": null,
      "outputs": []
    },
    {
      "cell_type": "markdown",
      "metadata": {
        "id": "XpHhq6So93NF"
      },
      "source": [
        "# Item features"
      ]
    },
    {
      "cell_type": "code",
      "metadata": {
        "id": "PJkPmlzi94ic"
      },
      "source": [
        "messages = data.loc[:,['Message_id','Message_type','Message_TA']].drop_duplicates(keep='first')\r\n",
        "messages['value'] = 1\r\n",
        "messages_wide_type = messages.pivot(index = 'Message_id', columns = 'Message_type', values = 'value', ).fillna(0).add_prefix('type_')\r\n",
        "messages_wide_ta = messages.pivot(index = 'Message_id', columns = 'Message_TA', values = 'value').fillna(0).add_prefix('ta_')\r\n",
        "\r\n",
        "messages = messages_wide_type.merge(messages_wide_ta, on = 'Message_id')\r\n",
        "\r\n",
        "messages.columns = messages.columns.str.strip().str.lower().str.replace(' ', '').str.replace('\\\\/', '')\r\n",
        "\r\n",
        "messages = messages.reset_index()"
      ],
      "execution_count": null,
      "outputs": []
    },
    {
      "cell_type": "code",
      "metadata": {
        "id": "G-7CqJqV9-cS"
      },
      "source": [
        "# Creo una lista unica de combinaciones de features\r\n",
        "itf = []\r\n",
        "col = ['type_biotech']*len(messages.type_biotech.unique()) + ['type_clinicaltrialupdate']*len(messages.type_clinicaltrialupdate.unique()) + ['type_medicalstudy']*len(messages.type_medicalstudy.unique()) + ['type_productlaunch']*len(messages.type_productlaunch.unique()) + ['type_serviceapplications']*len(messages.type_serviceapplications.unique()) + ['type_webinar']*len(messages.type_webinar.unique()) + ['ta_cardiovascular']*len(messages.ta_cardiovascular.unique()) + ['ta_else']*len(messages.ta_else.unique()) + ['ta_global']*len(messages.ta_global.unique()) + ['ta_oncology']*len(messages.ta_oncology.unique()) + ['ta_ophtalmology']*len(messages.ta_ophtalmology.unique()) \r\n",
        "unique_f = list(messages.type_biotech.unique()) + list(messages.type_clinicaltrialupdate.unique()) + list(messages.type_medicalstudy.unique()) + list(messages.type_productlaunch.unique()) + list(messages.type_serviceapplications.unique()) + list(messages.type_webinar.unique()) + list(messages.ta_cardiovascular.unique()) + list(messages.ta_else.unique()) + list(messages.ta_global.unique()) + list(messages.ta_oncology.unique()) + list(messages.ta_ophtalmology.unique())\r\n",
        "\r\n",
        "for x,y in zip(col, unique_f):\r\n",
        "    res = str(x)+ \":\" +str(y)\r\n",
        "    itf.append(res)\r\n",
        "    #print(res)"
      ],
      "execution_count": null,
      "outputs": []
    },
    {
      "cell_type": "markdown",
      "metadata": {
        "id": "G4hsq6x6P_Ez"
      },
      "source": [
        "# Fitting the dataset"
      ]
    },
    {
      "cell_type": "code",
      "metadata": {
        "colab": {
          "base_uri": "https://localhost:8080/"
        },
        "id": "rogx2c4ZOCL2",
        "outputId": "1038dc10-01da-4934-f5ce-f462c3810874"
      },
      "source": [
        "dataset1 = Dataset()\n",
        "dataset1.fit(data['HCP_id'].unique(), # all the users\n",
        "             data['Message_id'].unique(), # all the items\n",
        "             user_features  = uf,\n",
        "             item_features = itf\n",
        ")\n",
        "dataset1.interactions_shape()"
      ],
      "execution_count": null,
      "outputs": [
        {
          "output_type": "execute_result",
          "data": {
            "text/plain": [
              "(8349, 100)"
            ]
          },
          "metadata": {
            "tags": []
          },
          "execution_count": 76
        }
      ]
    },
    {
      "cell_type": "code",
      "metadata": {
        "colab": {
          "base_uri": "https://localhost:8080/"
        },
        "id": "IjQRmMSpPTuK",
        "outputId": "adc018e5-53f1-4361-e706-abe123a7329c"
      },
      "source": [
        "# Using the calculated rating for the weights matrix\n",
        "(interactions, weights) = dataset1.build_interactions(data[['HCP_id', 'Message_id', 'rating']].itertuples(index=False))\n",
        "interactions, weights\n",
        "\n",
        "#The interactions matrix tell us if at all the user interacted with an item and the weights matrix quantifies that particular interaction."
      ],
      "execution_count": null,
      "outputs": [
        {
          "output_type": "execute_result",
          "data": {
            "text/plain": [
              "(<8349x100 sparse matrix of type '<class 'numpy.int32'>'\n",
              " \twith 55543 stored elements in COOrdinate format>,\n",
              " <8349x100 sparse matrix of type '<class 'numpy.float32'>'\n",
              " \twith 55543 stored elements in COOrdinate format>)"
            ]
          },
          "metadata": {
            "tags": []
          },
          "execution_count": 77
        }
      ]
    },
    {
      "cell_type": "code",
      "metadata": {
        "colab": {
          "base_uri": "https://localhost:8080/"
        },
        "id": "jUpalYEu85vP",
        "outputId": "55c9b7bc-f230-4def-8cbe-fa4954b912e7"
      },
      "source": [
        "interactions.todense()"
      ],
      "execution_count": null,
      "outputs": [
        {
          "output_type": "execute_result",
          "data": {
            "text/plain": [
              "matrix([[1, 1, 0, ..., 0, 0, 0],\n",
              "        [1, 1, 0, ..., 0, 0, 0],\n",
              "        [0, 0, 1, ..., 0, 0, 0],\n",
              "        ...,\n",
              "        [0, 0, 0, ..., 0, 0, 0],\n",
              "        [0, 0, 0, ..., 0, 0, 0],\n",
              "        [0, 0, 0, ..., 0, 0, 0]], dtype=int32)"
            ]
          },
          "metadata": {
            "tags": []
          },
          "execution_count": 78
        }
      ]
    },
    {
      "cell_type": "code",
      "metadata": {
        "colab": {
          "base_uri": "https://localhost:8080/"
        },
        "id": "dQ597grN87Hv",
        "outputId": "0241f126-3227-4c63-83b2-8a158a6ffefd"
      },
      "source": [
        "weights.todense()"
      ],
      "execution_count": null,
      "outputs": [
        {
          "output_type": "execute_result",
          "data": {
            "text/plain": [
              "matrix([[0.5, 0. , 0. , ..., 0. , 0. , 0. ],\n",
              "        [1. , 1. , 0. , ..., 0. , 0. , 0. ],\n",
              "        [0. , 0. , 0. , ..., 0. , 0. , 0. ],\n",
              "        ...,\n",
              "        [0. , 0. , 0. , ..., 0. , 0. , 0. ],\n",
              "        [0. , 0. , 0. , ..., 0. , 0. , 0. ],\n",
              "        [0. , 0. , 0. , ..., 0. , 0. , 0. ]], dtype=float32)"
            ]
          },
          "metadata": {
            "tags": []
          },
          "execution_count": 79
        }
      ]
    },
    {
      "cell_type": "markdown",
      "metadata": {
        "id": "haYD-lqNPrxy"
      },
      "source": [
        "## Building users features"
      ]
    },
    {
      "cell_type": "code",
      "metadata": {
        "id": "jpldbNEFPfQY"
      },
      "source": [
        "def feature_colon_value_users(my_list):\n",
        "    \"\"\"\n",
        "    Takes as input a list and prepends the columns names to respective values in the list.\n",
        "    For example: if my_list = [1,1,0,'del'],\n",
        "    resultant output = ['f1:1', 'f2:1', 'f3:0', 'loc:del']\n",
        "   \n",
        "    \"\"\"\n",
        "    result = []\n",
        "    ll = ['office_or_hospital_based:', 'gender:', 'is_cardiologist:', 'is_gp:', 'years_since_graduation:']\n",
        "    aa = my_list\n",
        "    for x,y in zip(ll,aa):\n",
        "        res = str(x) +\"\"+ str(y)\n",
        "        result.append(res)\n",
        "    return result"
      ],
      "execution_count": null,
      "outputs": []
    },
    {
      "cell_type": "code",
      "metadata": {
        "id": "ZC5agH3gQISL"
      },
      "source": [
        "ad_subset = users[['office_or_hospital_based', 'gender', 'is_cardiologist', 'is_gp', 'years_since_graduation']] \n",
        "ad_list = [list(x) for x in ad_subset.values]\n",
        "feature_list_users = []\n",
        "for item in ad_list:\n",
        "    feature_list_users.append(feature_colon_value_users(item))\n",
        "    #print(feature_colon_value(item))\n",
        "#print(f'Final output: {feature_list_users}')"
      ],
      "execution_count": null,
      "outputs": []
    },
    {
      "cell_type": "code",
      "metadata": {
        "id": "FEFYFvbvQb-L"
      },
      "source": [
        "user_tuple = list(zip(users.HCP_id, feature_list_users))\r\n",
        "user_features = dataset1.build_user_features(user_tuple, normalize= False)"
      ],
      "execution_count": null,
      "outputs": []
    },
    {
      "cell_type": "code",
      "metadata": {
        "colab": {
          "base_uri": "https://localhost:8080/"
        },
        "id": "X7Aj-_dC9StM",
        "outputId": "1506572e-daf4-4b61-b645-cf1f19ab0e3b"
      },
      "source": [
        "user_features.todense()"
      ],
      "execution_count": null,
      "outputs": [
        {
          "output_type": "execute_result",
          "data": {
            "text/plain": [
              "matrix([[1., 0., 0., ..., 0., 0., 0.],\n",
              "        [0., 1., 0., ..., 0., 0., 0.],\n",
              "        [0., 0., 1., ..., 0., 0., 0.],\n",
              "        ...,\n",
              "        [0., 0., 0., ..., 0., 0., 0.],\n",
              "        [0., 0., 0., ..., 0., 0., 0.],\n",
              "        [0., 0., 0., ..., 0., 0., 0.]], dtype=float32)"
            ]
          },
          "metadata": {
            "tags": []
          },
          "execution_count": 83
        }
      ]
    },
    {
      "cell_type": "markdown",
      "metadata": {
        "id": "S2T5MoZnAAdD"
      },
      "source": [
        "## Builing item features"
      ]
    },
    {
      "cell_type": "code",
      "metadata": {
        "id": "_pupVenpGHi7"
      },
      "source": [
        "def feature_colon_value_items(my_list):\r\n",
        "    \"\"\"\r\n",
        "    Takes as input a list and prepends the columns names to respective values in the list.\r\n",
        "    For example: if my_list = [1,1,0,'del'],\r\n",
        "    resultant output = ['f1:1', 'f2:1', 'f3:0', 'loc:del']\r\n",
        "   \r\n",
        "    \"\"\"\r\n",
        "    result = []\r\n",
        "    ll = ['type_biotech:', 'type_clinicaltrialupdate:', 'type_medicalstudy:', 'type_productlaunch:', 'type_serviceapplications:','type_webinar:','ta_cardiovascular:','ta_else:','ta_global:','ta_oncology:','ta_ophtalmology:']\r\n",
        "    aa = my_list\r\n",
        "    for x,y in zip(ll,aa):\r\n",
        "        res = str(x) +\"\"+ str(y)\r\n",
        "        result.append(res)\r\n",
        "    return result"
      ],
      "execution_count": null,
      "outputs": []
    },
    {
      "cell_type": "code",
      "metadata": {
        "colab": {
          "base_uri": "https://localhost:8080/"
        },
        "id": "2WCqZ5raAFFQ",
        "outputId": "928fe26e-a29e-462b-960c-9670d62baa9f"
      },
      "source": [
        "ad_subset_items = messages[['type_biotech', 'type_clinicaltrialupdate', 'type_medicalstudy', 'type_productlaunch', 'type_serviceapplications','type_webinar','ta_cardiovascular','ta_else','ta_global','ta_oncology','ta_ophtalmology']] \r\n",
        "ad_list_items = [list(x) for x in ad_subset_items.values]\r\n",
        "\r\n",
        "feature_list_items = []\r\n",
        "for item in ad_list_items:\r\n",
        "    feature_list_items.append(feature_colon_value_items(item))\r\n",
        "    #print(feature_colon_value(item))\r\n",
        "print(f'Final output: {feature_list_items}')"
      ],
      "execution_count": null,
      "outputs": [
        {
          "output_type": "stream",
          "text": [
            "Final output: [['type_biotech:0.0', 'type_clinicaltrialupdate:0.0', 'type_medicalstudy:0.0', 'type_productlaunch:0.0', 'type_serviceapplications:1.0', 'type_webinar:0.0', 'ta_cardiovascular:0.0', 'ta_else:1.0', 'ta_global:0.0', 'ta_oncology:0.0', 'ta_ophtalmology:0.0'], ['type_biotech:0.0', 'type_clinicaltrialupdate:0.0', 'type_medicalstudy:0.0', 'type_productlaunch:1.0', 'type_serviceapplications:0.0', 'type_webinar:0.0', 'ta_cardiovascular:0.0', 'ta_else:0.0', 'ta_global:0.0', 'ta_oncology:0.0', 'ta_ophtalmology:1.0'], ['type_biotech:0.0', 'type_clinicaltrialupdate:1.0', 'type_medicalstudy:0.0', 'type_productlaunch:0.0', 'type_serviceapplications:0.0', 'type_webinar:0.0', 'ta_cardiovascular:0.0', 'ta_else:1.0', 'ta_global:0.0', 'ta_oncology:0.0', 'ta_ophtalmology:0.0'], ['type_biotech:1.0', 'type_clinicaltrialupdate:0.0', 'type_medicalstudy:0.0', 'type_productlaunch:0.0', 'type_serviceapplications:0.0', 'type_webinar:0.0', 'ta_cardiovascular:0.0', 'ta_else:0.0', 'ta_global:1.0', 'ta_oncology:0.0', 'ta_ophtalmology:0.0'], ['type_biotech:0.0', 'type_clinicaltrialupdate:0.0', 'type_medicalstudy:0.0', 'type_productlaunch:0.0', 'type_serviceapplications:1.0', 'type_webinar:0.0', 'ta_cardiovascular:0.0', 'ta_else:0.0', 'ta_global:1.0', 'ta_oncology:0.0', 'ta_ophtalmology:0.0'], ['type_biotech:0.0', 'type_clinicaltrialupdate:0.0', 'type_medicalstudy:0.0', 'type_productlaunch:0.0', 'type_serviceapplications:0.0', 'type_webinar:1.0', 'ta_cardiovascular:0.0', 'ta_else:0.0', 'ta_global:0.0', 'ta_oncology:0.0', 'ta_ophtalmology:1.0'], ['type_biotech:0.0', 'type_clinicaltrialupdate:0.0', 'type_medicalstudy:0.0', 'type_productlaunch:0.0', 'type_serviceapplications:1.0', 'type_webinar:0.0', 'ta_cardiovascular:0.0', 'ta_else:1.0', 'ta_global:0.0', 'ta_oncology:0.0', 'ta_ophtalmology:0.0'], ['type_biotech:0.0', 'type_clinicaltrialupdate:1.0', 'type_medicalstudy:0.0', 'type_productlaunch:0.0', 'type_serviceapplications:0.0', 'type_webinar:0.0', 'ta_cardiovascular:0.0', 'ta_else:0.0', 'ta_global:0.0', 'ta_oncology:1.0', 'ta_ophtalmology:0.0'], ['type_biotech:1.0', 'type_clinicaltrialupdate:0.0', 'type_medicalstudy:0.0', 'type_productlaunch:0.0', 'type_serviceapplications:0.0', 'type_webinar:0.0', 'ta_cardiovascular:0.0', 'ta_else:1.0', 'ta_global:0.0', 'ta_oncology:0.0', 'ta_ophtalmology:0.0'], ['type_biotech:1.0', 'type_clinicaltrialupdate:0.0', 'type_medicalstudy:0.0', 'type_productlaunch:0.0', 'type_serviceapplications:0.0', 'type_webinar:0.0', 'ta_cardiovascular:0.0', 'ta_else:0.0', 'ta_global:1.0', 'ta_oncology:0.0', 'ta_ophtalmology:0.0'], ['type_biotech:0.0', 'type_clinicaltrialupdate:0.0', 'type_medicalstudy:0.0', 'type_productlaunch:0.0', 'type_serviceapplications:0.0', 'type_webinar:1.0', 'ta_cardiovascular:0.0', 'ta_else:0.0', 'ta_global:1.0', 'ta_oncology:0.0', 'ta_ophtalmology:0.0'], ['type_biotech:0.0', 'type_clinicaltrialupdate:0.0', 'type_medicalstudy:1.0', 'type_productlaunch:0.0', 'type_serviceapplications:0.0', 'type_webinar:0.0', 'ta_cardiovascular:0.0', 'ta_else:1.0', 'ta_global:0.0', 'ta_oncology:0.0', 'ta_ophtalmology:0.0'], ['type_biotech:0.0', 'type_clinicaltrialupdate:0.0', 'type_medicalstudy:0.0', 'type_productlaunch:0.0', 'type_serviceapplications:0.0', 'type_webinar:1.0', 'ta_cardiovascular:0.0', 'ta_else:0.0', 'ta_global:0.0', 'ta_oncology:1.0', 'ta_ophtalmology:0.0'], ['type_biotech:0.0', 'type_clinicaltrialupdate:1.0', 'type_medicalstudy:0.0', 'type_productlaunch:0.0', 'type_serviceapplications:0.0', 'type_webinar:0.0', 'ta_cardiovascular:0.0', 'ta_else:0.0', 'ta_global:0.0', 'ta_oncology:0.0', 'ta_ophtalmology:1.0'], ['type_biotech:0.0', 'type_clinicaltrialupdate:0.0', 'type_medicalstudy:0.0', 'type_productlaunch:0.0', 'type_serviceapplications:0.0', 'type_webinar:1.0', 'ta_cardiovascular:1.0', 'ta_else:0.0', 'ta_global:0.0', 'ta_oncology:0.0', 'ta_ophtalmology:0.0'], ['type_biotech:0.0', 'type_clinicaltrialupdate:1.0', 'type_medicalstudy:0.0', 'type_productlaunch:0.0', 'type_serviceapplications:0.0', 'type_webinar:0.0', 'ta_cardiovascular:0.0', 'ta_else:1.0', 'ta_global:0.0', 'ta_oncology:0.0', 'ta_ophtalmology:0.0'], ['type_biotech:0.0', 'type_clinicaltrialupdate:0.0', 'type_medicalstudy:0.0', 'type_productlaunch:0.0', 'type_serviceapplications:0.0', 'type_webinar:1.0', 'ta_cardiovascular:0.0', 'ta_else:0.0', 'ta_global:0.0', 'ta_oncology:1.0', 'ta_ophtalmology:0.0'], ['type_biotech:0.0', 'type_clinicaltrialupdate:0.0', 'type_medicalstudy:0.0', 'type_productlaunch:0.0', 'type_serviceapplications:0.0', 'type_webinar:1.0', 'ta_cardiovascular:0.0', 'ta_else:0.0', 'ta_global:0.0', 'ta_oncology:0.0', 'ta_ophtalmology:1.0'], ['type_biotech:1.0', 'type_clinicaltrialupdate:0.0', 'type_medicalstudy:0.0', 'type_productlaunch:0.0', 'type_serviceapplications:0.0', 'type_webinar:0.0', 'ta_cardiovascular:1.0', 'ta_else:0.0', 'ta_global:0.0', 'ta_oncology:0.0', 'ta_ophtalmology:0.0'], ['type_biotech:0.0', 'type_clinicaltrialupdate:0.0', 'type_medicalstudy:1.0', 'type_productlaunch:0.0', 'type_serviceapplications:0.0', 'type_webinar:0.0', 'ta_cardiovascular:0.0', 'ta_else:0.0', 'ta_global:1.0', 'ta_oncology:0.0', 'ta_ophtalmology:0.0'], ['type_biotech:0.0', 'type_clinicaltrialupdate:0.0', 'type_medicalstudy:0.0', 'type_productlaunch:1.0', 'type_serviceapplications:0.0', 'type_webinar:0.0', 'ta_cardiovascular:0.0', 'ta_else:0.0', 'ta_global:1.0', 'ta_oncology:0.0', 'ta_ophtalmology:0.0'], ['type_biotech:0.0', 'type_clinicaltrialupdate:0.0', 'type_medicalstudy:0.0', 'type_productlaunch:1.0', 'type_serviceapplications:0.0', 'type_webinar:0.0', 'ta_cardiovascular:1.0', 'ta_else:0.0', 'ta_global:0.0', 'ta_oncology:0.0', 'ta_ophtalmology:0.0'], ['type_biotech:0.0', 'type_clinicaltrialupdate:1.0', 'type_medicalstudy:0.0', 'type_productlaunch:0.0', 'type_serviceapplications:0.0', 'type_webinar:0.0', 'ta_cardiovascular:0.0', 'ta_else:0.0', 'ta_global:0.0', 'ta_oncology:1.0', 'ta_ophtalmology:0.0'], ['type_biotech:0.0', 'type_clinicaltrialupdate:0.0', 'type_medicalstudy:1.0', 'type_productlaunch:0.0', 'type_serviceapplications:0.0', 'type_webinar:0.0', 'ta_cardiovascular:0.0', 'ta_else:0.0', 'ta_global:0.0', 'ta_oncology:1.0', 'ta_ophtalmology:0.0'], ['type_biotech:0.0', 'type_clinicaltrialupdate:0.0', 'type_medicalstudy:0.0', 'type_productlaunch:0.0', 'type_serviceapplications:0.0', 'type_webinar:1.0', 'ta_cardiovascular:0.0', 'ta_else:1.0', 'ta_global:0.0', 'ta_oncology:0.0', 'ta_ophtalmology:0.0'], ['type_biotech:0.0', 'type_clinicaltrialupdate:0.0', 'type_medicalstudy:0.0', 'type_productlaunch:0.0', 'type_serviceapplications:0.0', 'type_webinar:1.0', 'ta_cardiovascular:0.0', 'ta_else:1.0', 'ta_global:0.0', 'ta_oncology:0.0', 'ta_ophtalmology:0.0'], ['type_biotech:0.0', 'type_clinicaltrialupdate:0.0', 'type_medicalstudy:1.0', 'type_productlaunch:0.0', 'type_serviceapplications:0.0', 'type_webinar:0.0', 'ta_cardiovascular:1.0', 'ta_else:0.0', 'ta_global:0.0', 'ta_oncology:0.0', 'ta_ophtalmology:0.0'], ['type_biotech:0.0', 'type_clinicaltrialupdate:0.0', 'type_medicalstudy:0.0', 'type_productlaunch:0.0', 'type_serviceapplications:1.0', 'type_webinar:0.0', 'ta_cardiovascular:0.0', 'ta_else:0.0', 'ta_global:0.0', 'ta_oncology:0.0', 'ta_ophtalmology:1.0'], ['type_biotech:0.0', 'type_clinicaltrialupdate:0.0', 'type_medicalstudy:1.0', 'type_productlaunch:0.0', 'type_serviceapplications:0.0', 'type_webinar:0.0', 'ta_cardiovascular:0.0', 'ta_else:0.0', 'ta_global:1.0', 'ta_oncology:0.0', 'ta_ophtalmology:0.0'], ['type_biotech:0.0', 'type_clinicaltrialupdate:1.0', 'type_medicalstudy:0.0', 'type_productlaunch:0.0', 'type_serviceapplications:0.0', 'type_webinar:0.0', 'ta_cardiovascular:0.0', 'ta_else:1.0', 'ta_global:0.0', 'ta_oncology:0.0', 'ta_ophtalmology:0.0'], ['type_biotech:0.0', 'type_clinicaltrialupdate:0.0', 'type_medicalstudy:1.0', 'type_productlaunch:0.0', 'type_serviceapplications:0.0', 'type_webinar:0.0', 'ta_cardiovascular:1.0', 'ta_else:0.0', 'ta_global:0.0', 'ta_oncology:0.0', 'ta_ophtalmology:0.0'], ['type_biotech:0.0', 'type_clinicaltrialupdate:0.0', 'type_medicalstudy:0.0', 'type_productlaunch:0.0', 'type_serviceapplications:1.0', 'type_webinar:0.0', 'ta_cardiovascular:0.0', 'ta_else:0.0', 'ta_global:0.0', 'ta_oncology:0.0', 'ta_ophtalmology:1.0'], ['type_biotech:0.0', 'type_clinicaltrialupdate:0.0', 'type_medicalstudy:0.0', 'type_productlaunch:0.0', 'type_serviceapplications:0.0', 'type_webinar:1.0', 'ta_cardiovascular:0.0', 'ta_else:1.0', 'ta_global:0.0', 'ta_oncology:0.0', 'ta_ophtalmology:0.0'], ['type_biotech:0.0', 'type_clinicaltrialupdate:0.0', 'type_medicalstudy:0.0', 'type_productlaunch:1.0', 'type_serviceapplications:0.0', 'type_webinar:0.0', 'ta_cardiovascular:0.0', 'ta_else:0.0', 'ta_global:0.0', 'ta_oncology:1.0', 'ta_ophtalmology:0.0'], ['type_biotech:0.0', 'type_clinicaltrialupdate:0.0', 'type_medicalstudy:1.0', 'type_productlaunch:0.0', 'type_serviceapplications:0.0', 'type_webinar:0.0', 'ta_cardiovascular:0.0', 'ta_else:0.0', 'ta_global:0.0', 'ta_oncology:1.0', 'ta_ophtalmology:0.0'], ['type_biotech:0.0', 'type_clinicaltrialupdate:0.0', 'type_medicalstudy:0.0', 'type_productlaunch:0.0', 'type_serviceapplications:1.0', 'type_webinar:0.0', 'ta_cardiovascular:0.0', 'ta_else:0.0', 'ta_global:0.0', 'ta_oncology:1.0', 'ta_ophtalmology:0.0'], ['type_biotech:1.0', 'type_clinicaltrialupdate:0.0', 'type_medicalstudy:0.0', 'type_productlaunch:0.0', 'type_serviceapplications:0.0', 'type_webinar:0.0', 'ta_cardiovascular:0.0', 'ta_else:0.0', 'ta_global:1.0', 'ta_oncology:0.0', 'ta_ophtalmology:0.0'], ['type_biotech:0.0', 'type_clinicaltrialupdate:1.0', 'type_medicalstudy:0.0', 'type_productlaunch:0.0', 'type_serviceapplications:0.0', 'type_webinar:0.0', 'ta_cardiovascular:0.0', 'ta_else:0.0', 'ta_global:1.0', 'ta_oncology:0.0', 'ta_ophtalmology:0.0'], ['type_biotech:0.0', 'type_clinicaltrialupdate:1.0', 'type_medicalstudy:0.0', 'type_productlaunch:0.0', 'type_serviceapplications:0.0', 'type_webinar:0.0', 'ta_cardiovascular:0.0', 'ta_else:0.0', 'ta_global:0.0', 'ta_oncology:0.0', 'ta_ophtalmology:1.0'], ['type_biotech:0.0', 'type_clinicaltrialupdate:1.0', 'type_medicalstudy:0.0', 'type_productlaunch:0.0', 'type_serviceapplications:0.0', 'type_webinar:0.0', 'ta_cardiovascular:0.0', 'ta_else:0.0', 'ta_global:0.0', 'ta_oncology:1.0', 'ta_ophtalmology:0.0'], ['type_biotech:1.0', 'type_clinicaltrialupdate:0.0', 'type_medicalstudy:0.0', 'type_productlaunch:0.0', 'type_serviceapplications:0.0', 'type_webinar:0.0', 'ta_cardiovascular:0.0', 'ta_else:0.0', 'ta_global:0.0', 'ta_oncology:1.0', 'ta_ophtalmology:0.0'], ['type_biotech:0.0', 'type_clinicaltrialupdate:0.0', 'type_medicalstudy:0.0', 'type_productlaunch:0.0', 'type_serviceapplications:0.0', 'type_webinar:1.0', 'ta_cardiovascular:1.0', 'ta_else:0.0', 'ta_global:0.0', 'ta_oncology:0.0', 'ta_ophtalmology:0.0'], ['type_biotech:1.0', 'type_clinicaltrialupdate:0.0', 'type_medicalstudy:0.0', 'type_productlaunch:0.0', 'type_serviceapplications:0.0', 'type_webinar:0.0', 'ta_cardiovascular:0.0', 'ta_else:0.0', 'ta_global:0.0', 'ta_oncology:1.0', 'ta_ophtalmology:0.0'], ['type_biotech:0.0', 'type_clinicaltrialupdate:0.0', 'type_medicalstudy:0.0', 'type_productlaunch:1.0', 'type_serviceapplications:0.0', 'type_webinar:0.0', 'ta_cardiovascular:0.0', 'ta_else:0.0', 'ta_global:0.0', 'ta_oncology:0.0', 'ta_ophtalmology:1.0'], ['type_biotech:0.0', 'type_clinicaltrialupdate:0.0', 'type_medicalstudy:1.0', 'type_productlaunch:0.0', 'type_serviceapplications:0.0', 'type_webinar:0.0', 'ta_cardiovascular:0.0', 'ta_else:0.0', 'ta_global:0.0', 'ta_oncology:0.0', 'ta_ophtalmology:1.0'], ['type_biotech:0.0', 'type_clinicaltrialupdate:1.0', 'type_medicalstudy:0.0', 'type_productlaunch:0.0', 'type_serviceapplications:0.0', 'type_webinar:0.0', 'ta_cardiovascular:0.0', 'ta_else:0.0', 'ta_global:1.0', 'ta_oncology:0.0', 'ta_ophtalmology:0.0'], ['type_biotech:1.0', 'type_clinicaltrialupdate:0.0', 'type_medicalstudy:0.0', 'type_productlaunch:0.0', 'type_serviceapplications:0.0', 'type_webinar:0.0', 'ta_cardiovascular:0.0', 'ta_else:0.0', 'ta_global:1.0', 'ta_oncology:0.0', 'ta_ophtalmology:0.0'], ['type_biotech:0.0', 'type_clinicaltrialupdate:0.0', 'type_medicalstudy:1.0', 'type_productlaunch:0.0', 'type_serviceapplications:0.0', 'type_webinar:0.0', 'ta_cardiovascular:0.0', 'ta_else:1.0', 'ta_global:0.0', 'ta_oncology:0.0', 'ta_ophtalmology:0.0'], ['type_biotech:0.0', 'type_clinicaltrialupdate:0.0', 'type_medicalstudy:0.0', 'type_productlaunch:0.0', 'type_serviceapplications:1.0', 'type_webinar:0.0', 'ta_cardiovascular:1.0', 'ta_else:0.0', 'ta_global:0.0', 'ta_oncology:0.0', 'ta_ophtalmology:0.0'], ['type_biotech:0.0', 'type_clinicaltrialupdate:0.0', 'type_medicalstudy:0.0', 'type_productlaunch:1.0', 'type_serviceapplications:0.0', 'type_webinar:0.0', 'ta_cardiovascular:0.0', 'ta_else:0.0', 'ta_global:0.0', 'ta_oncology:0.0', 'ta_ophtalmology:1.0'], ['type_biotech:0.0', 'type_clinicaltrialupdate:0.0', 'type_medicalstudy:0.0', 'type_productlaunch:0.0', 'type_serviceapplications:1.0', 'type_webinar:0.0', 'ta_cardiovascular:0.0', 'ta_else:0.0', 'ta_global:0.0', 'ta_oncology:0.0', 'ta_ophtalmology:1.0'], ['type_biotech:0.0', 'type_clinicaltrialupdate:1.0', 'type_medicalstudy:0.0', 'type_productlaunch:0.0', 'type_serviceapplications:0.0', 'type_webinar:0.0', 'ta_cardiovascular:1.0', 'ta_else:0.0', 'ta_global:0.0', 'ta_oncology:0.0', 'ta_ophtalmology:0.0'], ['type_biotech:0.0', 'type_clinicaltrialupdate:0.0', 'type_medicalstudy:0.0', 'type_productlaunch:1.0', 'type_serviceapplications:0.0', 'type_webinar:0.0', 'ta_cardiovascular:1.0', 'ta_else:0.0', 'ta_global:0.0', 'ta_oncology:0.0', 'ta_ophtalmology:0.0'], ['type_biotech:0.0', 'type_clinicaltrialupdate:0.0', 'type_medicalstudy:0.0', 'type_productlaunch:0.0', 'type_serviceapplications:0.0', 'type_webinar:1.0', 'ta_cardiovascular:0.0', 'ta_else:0.0', 'ta_global:1.0', 'ta_oncology:0.0', 'ta_ophtalmology:0.0'], ['type_biotech:0.0', 'type_clinicaltrialupdate:0.0', 'type_medicalstudy:0.0', 'type_productlaunch:1.0', 'type_serviceapplications:0.0', 'type_webinar:0.0', 'ta_cardiovascular:0.0', 'ta_else:0.0', 'ta_global:1.0', 'ta_oncology:0.0', 'ta_ophtalmology:0.0'], ['type_biotech:1.0', 'type_clinicaltrialupdate:0.0', 'type_medicalstudy:0.0', 'type_productlaunch:0.0', 'type_serviceapplications:0.0', 'type_webinar:0.0', 'ta_cardiovascular:0.0', 'ta_else:0.0', 'ta_global:1.0', 'ta_oncology:0.0', 'ta_ophtalmology:0.0'], ['type_biotech:0.0', 'type_clinicaltrialupdate:0.0', 'type_medicalstudy:0.0', 'type_productlaunch:1.0', 'type_serviceapplications:0.0', 'type_webinar:0.0', 'ta_cardiovascular:0.0', 'ta_else:0.0', 'ta_global:1.0', 'ta_oncology:0.0', 'ta_ophtalmology:0.0'], ['type_biotech:0.0', 'type_clinicaltrialupdate:0.0', 'type_medicalstudy:0.0', 'type_productlaunch:1.0', 'type_serviceapplications:0.0', 'type_webinar:0.0', 'ta_cardiovascular:0.0', 'ta_else:0.0', 'ta_global:1.0', 'ta_oncology:0.0', 'ta_ophtalmology:0.0'], ['type_biotech:0.0', 'type_clinicaltrialupdate:0.0', 'type_medicalstudy:0.0', 'type_productlaunch:0.0', 'type_serviceapplications:1.0', 'type_webinar:0.0', 'ta_cardiovascular:1.0', 'ta_else:0.0', 'ta_global:0.0', 'ta_oncology:0.0', 'ta_ophtalmology:0.0'], ['type_biotech:0.0', 'type_clinicaltrialupdate:0.0', 'type_medicalstudy:0.0', 'type_productlaunch:0.0', 'type_serviceapplications:1.0', 'type_webinar:0.0', 'ta_cardiovascular:0.0', 'ta_else:0.0', 'ta_global:1.0', 'ta_oncology:0.0', 'ta_ophtalmology:0.0'], ['type_biotech:0.0', 'type_clinicaltrialupdate:1.0', 'type_medicalstudy:0.0', 'type_productlaunch:0.0', 'type_serviceapplications:0.0', 'type_webinar:0.0', 'ta_cardiovascular:0.0', 'ta_else:1.0', 'ta_global:0.0', 'ta_oncology:0.0', 'ta_ophtalmology:0.0'], ['type_biotech:0.0', 'type_clinicaltrialupdate:0.0', 'type_medicalstudy:0.0', 'type_productlaunch:1.0', 'type_serviceapplications:0.0', 'type_webinar:0.0', 'ta_cardiovascular:0.0', 'ta_else:0.0', 'ta_global:0.0', 'ta_oncology:0.0', 'ta_ophtalmology:1.0'], ['type_biotech:0.0', 'type_clinicaltrialupdate:0.0', 'type_medicalstudy:0.0', 'type_productlaunch:0.0', 'type_serviceapplications:1.0', 'type_webinar:0.0', 'ta_cardiovascular:0.0', 'ta_else:0.0', 'ta_global:0.0', 'ta_oncology:1.0', 'ta_ophtalmology:0.0'], ['type_biotech:0.0', 'type_clinicaltrialupdate:0.0', 'type_medicalstudy:0.0', 'type_productlaunch:1.0', 'type_serviceapplications:0.0', 'type_webinar:0.0', 'ta_cardiovascular:1.0', 'ta_else:0.0', 'ta_global:0.0', 'ta_oncology:0.0', 'ta_ophtalmology:0.0'], ['type_biotech:0.0', 'type_clinicaltrialupdate:1.0', 'type_medicalstudy:0.0', 'type_productlaunch:0.0', 'type_serviceapplications:0.0', 'type_webinar:0.0', 'ta_cardiovascular:1.0', 'ta_else:0.0', 'ta_global:0.0', 'ta_oncology:0.0', 'ta_ophtalmology:0.0'], ['type_biotech:0.0', 'type_clinicaltrialupdate:0.0', 'type_medicalstudy:0.0', 'type_productlaunch:0.0', 'type_serviceapplications:1.0', 'type_webinar:0.0', 'ta_cardiovascular:0.0', 'ta_else:0.0', 'ta_global:0.0', 'ta_oncology:0.0', 'ta_ophtalmology:1.0'], ['type_biotech:1.0', 'type_clinicaltrialupdate:0.0', 'type_medicalstudy:0.0', 'type_productlaunch:0.0', 'type_serviceapplications:0.0', 'type_webinar:0.0', 'ta_cardiovascular:0.0', 'ta_else:0.0', 'ta_global:1.0', 'ta_oncology:0.0', 'ta_ophtalmology:0.0'], ['type_biotech:0.0', 'type_clinicaltrialupdate:1.0', 'type_medicalstudy:0.0', 'type_productlaunch:0.0', 'type_serviceapplications:0.0', 'type_webinar:0.0', 'ta_cardiovascular:0.0', 'ta_else:0.0', 'ta_global:0.0', 'ta_oncology:1.0', 'ta_ophtalmology:0.0'], ['type_biotech:1.0', 'type_clinicaltrialupdate:0.0', 'type_medicalstudy:0.0', 'type_productlaunch:0.0', 'type_serviceapplications:0.0', 'type_webinar:0.0', 'ta_cardiovascular:0.0', 'ta_else:0.0', 'ta_global:1.0', 'ta_oncology:0.0', 'ta_ophtalmology:0.0'], ['type_biotech:1.0', 'type_clinicaltrialupdate:0.0', 'type_medicalstudy:0.0', 'type_productlaunch:0.0', 'type_serviceapplications:0.0', 'type_webinar:0.0', 'ta_cardiovascular:0.0', 'ta_else:0.0', 'ta_global:1.0', 'ta_oncology:0.0', 'ta_ophtalmology:0.0'], ['type_biotech:1.0', 'type_clinicaltrialupdate:0.0', 'type_medicalstudy:0.0', 'type_productlaunch:0.0', 'type_serviceapplications:0.0', 'type_webinar:0.0', 'ta_cardiovascular:1.0', 'ta_else:0.0', 'ta_global:0.0', 'ta_oncology:0.0', 'ta_ophtalmology:0.0'], ['type_biotech:1.0', 'type_clinicaltrialupdate:0.0', 'type_medicalstudy:0.0', 'type_productlaunch:0.0', 'type_serviceapplications:0.0', 'type_webinar:0.0', 'ta_cardiovascular:0.0', 'ta_else:0.0', 'ta_global:1.0', 'ta_oncology:0.0', 'ta_ophtalmology:0.0'], ['type_biotech:0.0', 'type_clinicaltrialupdate:1.0', 'type_medicalstudy:0.0', 'type_productlaunch:0.0', 'type_serviceapplications:0.0', 'type_webinar:0.0', 'ta_cardiovascular:0.0', 'ta_else:0.0', 'ta_global:1.0', 'ta_oncology:0.0', 'ta_ophtalmology:0.0'], ['type_biotech:0.0', 'type_clinicaltrialupdate:0.0', 'type_medicalstudy:1.0', 'type_productlaunch:0.0', 'type_serviceapplications:0.0', 'type_webinar:0.0', 'ta_cardiovascular:0.0', 'ta_else:0.0', 'ta_global:1.0', 'ta_oncology:0.0', 'ta_ophtalmology:0.0'], ['type_biotech:1.0', 'type_clinicaltrialupdate:0.0', 'type_medicalstudy:0.0', 'type_productlaunch:0.0', 'type_serviceapplications:0.0', 'type_webinar:0.0', 'ta_cardiovascular:0.0', 'ta_else:0.0', 'ta_global:1.0', 'ta_oncology:0.0', 'ta_ophtalmology:0.0'], ['type_biotech:0.0', 'type_clinicaltrialupdate:0.0', 'type_medicalstudy:0.0', 'type_productlaunch:0.0', 'type_serviceapplications:0.0', 'type_webinar:1.0', 'ta_cardiovascular:0.0', 'ta_else:1.0', 'ta_global:0.0', 'ta_oncology:0.0', 'ta_ophtalmology:0.0'], ['type_biotech:0.0', 'type_clinicaltrialupdate:0.0', 'type_medicalstudy:0.0', 'type_productlaunch:0.0', 'type_serviceapplications:1.0', 'type_webinar:0.0', 'ta_cardiovascular:0.0', 'ta_else:1.0', 'ta_global:0.0', 'ta_oncology:0.0', 'ta_ophtalmology:0.0'], ['type_biotech:0.0', 'type_clinicaltrialupdate:1.0', 'type_medicalstudy:0.0', 'type_productlaunch:0.0', 'type_serviceapplications:0.0', 'type_webinar:0.0', 'ta_cardiovascular:0.0', 'ta_else:0.0', 'ta_global:0.0', 'ta_oncology:0.0', 'ta_ophtalmology:1.0'], ['type_biotech:0.0', 'type_clinicaltrialupdate:0.0', 'type_medicalstudy:0.0', 'type_productlaunch:0.0', 'type_serviceapplications:0.0', 'type_webinar:1.0', 'ta_cardiovascular:0.0', 'ta_else:0.0', 'ta_global:1.0', 'ta_oncology:0.0', 'ta_ophtalmology:0.0'], ['type_biotech:0.0', 'type_clinicaltrialupdate:1.0', 'type_medicalstudy:0.0', 'type_productlaunch:0.0', 'type_serviceapplications:0.0', 'type_webinar:0.0', 'ta_cardiovascular:0.0', 'ta_else:0.0', 'ta_global:0.0', 'ta_oncology:1.0', 'ta_ophtalmology:0.0'], ['type_biotech:0.0', 'type_clinicaltrialupdate:0.0', 'type_medicalstudy:1.0', 'type_productlaunch:0.0', 'type_serviceapplications:0.0', 'type_webinar:0.0', 'ta_cardiovascular:0.0', 'ta_else:0.0', 'ta_global:0.0', 'ta_oncology:0.0', 'ta_ophtalmology:1.0'], ['type_biotech:0.0', 'type_clinicaltrialupdate:0.0', 'type_medicalstudy:0.0', 'type_productlaunch:0.0', 'type_serviceapplications:0.0', 'type_webinar:1.0', 'ta_cardiovascular:0.0', 'ta_else:0.0', 'ta_global:0.0', 'ta_oncology:1.0', 'ta_ophtalmology:0.0'], ['type_biotech:1.0', 'type_clinicaltrialupdate:0.0', 'type_medicalstudy:0.0', 'type_productlaunch:0.0', 'type_serviceapplications:0.0', 'type_webinar:0.0', 'ta_cardiovascular:0.0', 'ta_else:1.0', 'ta_global:0.0', 'ta_oncology:0.0', 'ta_ophtalmology:0.0'], ['type_biotech:0.0', 'type_clinicaltrialupdate:1.0', 'type_medicalstudy:0.0', 'type_productlaunch:0.0', 'type_serviceapplications:0.0', 'type_webinar:0.0', 'ta_cardiovascular:0.0', 'ta_else:0.0', 'ta_global:0.0', 'ta_oncology:0.0', 'ta_ophtalmology:1.0'], ['type_biotech:0.0', 'type_clinicaltrialupdate:1.0', 'type_medicalstudy:0.0', 'type_productlaunch:0.0', 'type_serviceapplications:0.0', 'type_webinar:0.0', 'ta_cardiovascular:1.0', 'ta_else:0.0', 'ta_global:0.0', 'ta_oncology:0.0', 'ta_ophtalmology:0.0'], ['type_biotech:0.0', 'type_clinicaltrialupdate:1.0', 'type_medicalstudy:0.0', 'type_productlaunch:0.0', 'type_serviceapplications:0.0', 'type_webinar:0.0', 'ta_cardiovascular:0.0', 'ta_else:0.0', 'ta_global:1.0', 'ta_oncology:0.0', 'ta_ophtalmology:0.0'], ['type_biotech:0.0', 'type_clinicaltrialupdate:0.0', 'type_medicalstudy:0.0', 'type_productlaunch:1.0', 'type_serviceapplications:0.0', 'type_webinar:0.0', 'ta_cardiovascular:1.0', 'ta_else:0.0', 'ta_global:0.0', 'ta_oncology:0.0', 'ta_ophtalmology:0.0'], ['type_biotech:0.0', 'type_clinicaltrialupdate:0.0', 'type_medicalstudy:0.0', 'type_productlaunch:1.0', 'type_serviceapplications:0.0', 'type_webinar:0.0', 'ta_cardiovascular:0.0', 'ta_else:0.0', 'ta_global:1.0', 'ta_oncology:0.0', 'ta_ophtalmology:0.0'], ['type_biotech:0.0', 'type_clinicaltrialupdate:0.0', 'type_medicalstudy:0.0', 'type_productlaunch:1.0', 'type_serviceapplications:0.0', 'type_webinar:0.0', 'ta_cardiovascular:0.0', 'ta_else:1.0', 'ta_global:0.0', 'ta_oncology:0.0', 'ta_ophtalmology:0.0'], ['type_biotech:0.0', 'type_clinicaltrialupdate:0.0', 'type_medicalstudy:1.0', 'type_productlaunch:0.0', 'type_serviceapplications:0.0', 'type_webinar:0.0', 'ta_cardiovascular:0.0', 'ta_else:0.0', 'ta_global:1.0', 'ta_oncology:0.0', 'ta_ophtalmology:0.0'], ['type_biotech:0.0', 'type_clinicaltrialupdate:0.0', 'type_medicalstudy:0.0', 'type_productlaunch:0.0', 'type_serviceapplications:0.0', 'type_webinar:1.0', 'ta_cardiovascular:0.0', 'ta_else:0.0', 'ta_global:0.0', 'ta_oncology:0.0', 'ta_ophtalmology:1.0'], ['type_biotech:0.0', 'type_clinicaltrialupdate:0.0', 'type_medicalstudy:1.0', 'type_productlaunch:0.0', 'type_serviceapplications:0.0', 'type_webinar:0.0', 'ta_cardiovascular:0.0', 'ta_else:0.0', 'ta_global:1.0', 'ta_oncology:0.0', 'ta_ophtalmology:0.0'], ['type_biotech:0.0', 'type_clinicaltrialupdate:0.0', 'type_medicalstudy:0.0', 'type_productlaunch:0.0', 'type_serviceapplications:1.0', 'type_webinar:0.0', 'ta_cardiovascular:1.0', 'ta_else:0.0', 'ta_global:0.0', 'ta_oncology:0.0', 'ta_ophtalmology:0.0'], ['type_biotech:0.0', 'type_clinicaltrialupdate:0.0', 'type_medicalstudy:1.0', 'type_productlaunch:0.0', 'type_serviceapplications:0.0', 'type_webinar:0.0', 'ta_cardiovascular:0.0', 'ta_else:0.0', 'ta_global:0.0', 'ta_oncology:1.0', 'ta_ophtalmology:0.0'], ['type_biotech:0.0', 'type_clinicaltrialupdate:0.0', 'type_medicalstudy:0.0', 'type_productlaunch:0.0', 'type_serviceapplications:1.0', 'type_webinar:0.0', 'ta_cardiovascular:1.0', 'ta_else:0.0', 'ta_global:0.0', 'ta_oncology:0.0', 'ta_ophtalmology:0.0'], ['type_biotech:0.0', 'type_clinicaltrialupdate:0.0', 'type_medicalstudy:1.0', 'type_productlaunch:0.0', 'type_serviceapplications:0.0', 'type_webinar:0.0', 'ta_cardiovascular:0.0', 'ta_else:0.0', 'ta_global:1.0', 'ta_oncology:0.0', 'ta_ophtalmology:0.0'], ['type_biotech:0.0', 'type_clinicaltrialupdate:0.0', 'type_medicalstudy:0.0', 'type_productlaunch:1.0', 'type_serviceapplications:0.0', 'type_webinar:0.0', 'ta_cardiovascular:0.0', 'ta_else:0.0', 'ta_global:1.0', 'ta_oncology:0.0', 'ta_ophtalmology:0.0'], ['type_biotech:0.0', 'type_clinicaltrialupdate:0.0', 'type_medicalstudy:0.0', 'type_productlaunch:0.0', 'type_serviceapplications:1.0', 'type_webinar:0.0', 'ta_cardiovascular:0.0', 'ta_else:0.0', 'ta_global:0.0', 'ta_oncology:1.0', 'ta_ophtalmology:0.0'], ['type_biotech:0.0', 'type_clinicaltrialupdate:1.0', 'type_medicalstudy:0.0', 'type_productlaunch:0.0', 'type_serviceapplications:0.0', 'type_webinar:0.0', 'ta_cardiovascular:0.0', 'ta_else:0.0', 'ta_global:1.0', 'ta_oncology:0.0', 'ta_ophtalmology:0.0'], ['type_biotech:0.0', 'type_clinicaltrialupdate:0.0', 'type_medicalstudy:0.0', 'type_productlaunch:1.0', 'type_serviceapplications:0.0', 'type_webinar:0.0', 'ta_cardiovascular:0.0', 'ta_else:1.0', 'ta_global:0.0', 'ta_oncology:0.0', 'ta_ophtalmology:0.0']]\n"
          ],
          "name": "stdout"
        }
      ]
    },
    {
      "cell_type": "code",
      "metadata": {
        "id": "_x5bzBgpTsbM"
      },
      "source": [
        "item_tuple = list(zip(data.Message_id, feature_list_items))\r\n",
        "item_features = dataset1.build_item_features(item_tuple, normalize= False)"
      ],
      "execution_count": null,
      "outputs": []
    },
    {
      "cell_type": "code",
      "metadata": {
        "colab": {
          "base_uri": "https://localhost:8080/"
        },
        "id": "Ed-SC7izhvEB",
        "outputId": "d0794098-973c-4f9c-9e15-94360ca0e9d8"
      },
      "source": [
        "item_features.todense()"
      ],
      "execution_count": null,
      "outputs": [
        {
          "output_type": "execute_result",
          "data": {
            "text/plain": [
              "matrix([[1., 0., 0., ..., 0., 2., 0.],\n",
              "        [0., 1., 0., ..., 0., 1., 1.],\n",
              "        [0., 0., 1., ..., 0., 1., 0.],\n",
              "        ...,\n",
              "        [0., 0., 0., ..., 0., 0., 0.],\n",
              "        [0., 0., 0., ..., 0., 0., 0.],\n",
              "        [0., 0., 0., ..., 0., 0., 0.]], dtype=float32)"
            ]
          },
          "metadata": {
            "tags": []
          },
          "execution_count": 87
        }
      ]
    },
    {
      "cell_type": "markdown",
      "metadata": {
        "id": "ih-SAwB9A_jD"
      },
      "source": [
        "# Mapping"
      ]
    },
    {
      "cell_type": "code",
      "metadata": {
        "id": "oSoDKqzzt4I_"
      },
      "source": [
        "user_id_map, user_feature_map, item_id_map, item_feature_map = dataset1.mapping()"
      ],
      "execution_count": null,
      "outputs": []
    },
    {
      "cell_type": "markdown",
      "metadata": {
        "id": "89lY7qcjolrM"
      },
      "source": [
        "# Train Test Split"
      ]
    },
    {
      "cell_type": "code",
      "metadata": {
        "id": "QSgKYM82fLkh"
      },
      "source": [
        "train, test = cross_validation.random_train_test_split(interactions, test_percentage=0.2)"
      ],
      "execution_count": null,
      "outputs": []
    },
    {
      "cell_type": "code",
      "metadata": {
        "id": "UaO4kGDtRGCc",
        "colab": {
          "base_uri": "https://localhost:8080/"
        },
        "outputId": "4dc4bc88-05f5-4e03-8758-79b043b1e8df"
      },
      "source": [
        "model = LightFM(loss='warp')\n",
        "\n",
        "model.fit(train,\n",
        "      user_features = user_features,\n",
        "      item_features = item_features,\n",
        "     # sample_weight= weights,\n",
        "      epochs=10)"
      ],
      "execution_count": null,
      "outputs": [
        {
          "output_type": "execute_result",
          "data": {
            "text/plain": [
              "<lightfm.lightfm.LightFM at 0x7f6b39d57ac8>"
            ]
          },
          "metadata": {
            "tags": []
          },
          "execution_count": 93
        }
      ]
    },
    {
      "cell_type": "code",
      "metadata": {
        "id": "OgV8IvWFfFWc",
        "colab": {
          "base_uri": "https://localhost:8080/"
        },
        "outputId": "50ebde98-9cf2-4238-c723-da6a65e5c493"
      },
      "source": [
        "train_precision = evaluation.precision_at_k(model, train, user_features = user_features, item_features = item_features, k=10, num_threads=2).mean()\n",
        "test_precision  = evaluation.precision_at_k(model, test,  user_features = user_features, item_features = item_features, k=10, num_threads=2).mean()\n",
        "print('Train@k Precision: {}'.format(train_precision))\n",
        "print('Test@k Precision: {}'.format(test_precision))"
      ],
      "execution_count": null,
      "outputs": [
        {
          "output_type": "stream",
          "text": [
            "Train@k Precision: 0.44437921047210693\n",
            "Test@k Precision: 0.11487603932619095\n"
          ],
          "name": "stdout"
        }
      ]
    },
    {
      "cell_type": "markdown",
      "metadata": {
        "id": "F8nPaU78qfGk"
      },
      "source": [
        "# Hiperoptimization"
      ]
    },
    {
      "cell_type": "markdown",
      "metadata": {
        "id": "yhcCtHIEH7u5"
      },
      "source": [
        "https://www.ethanrosenthal.com/2016/10/19/implicit-mf-part-1/"
      ]
    },
    {
      "cell_type": "code",
      "metadata": {
        "id": "R51dLPKwGRwn"
      },
      "source": [
        "def objective_wsideinfo(params):\r\n",
        "    # unpack\r\n",
        "    epochs, learning_rate,\\\r\n",
        "    no_components, item_alpha,\\\r\n",
        "    scale = params\r\n",
        "    \r\n",
        "    user_alpha = item_alpha * scale\r\n",
        "    model = LightFM(loss='warp',\r\n",
        "                    random_state=2020,\r\n",
        "                    learning_rate=learning_rate,\r\n",
        "                    no_components=no_components,\r\n",
        "                    user_alpha=user_alpha,\r\n",
        "                    item_alpha=item_alpha)\r\n",
        "    model.fit(train, \r\n",
        "              epochs=epochs,\r\n",
        "              user_features=user_features, \r\n",
        "              item_features=item_features,\r\n",
        "              num_threads=4, \r\n",
        "              verbose=True)\r\n",
        "    \r\n",
        "    patks = evaluation.precision_at_k(model,\r\n",
        "                                      test,\r\n",
        "                                      user_features=user_features, \r\n",
        "                                      item_features=item_features,\r\n",
        "                                      train_interactions=None,\r\n",
        "                                      k=5, \r\n",
        "                                      num_threads=3)\r\n",
        "    mapatk = np.mean(patks)\r\n",
        "    # Make negative because we want to _minimize_ objective\r\n",
        "    out = -mapatk\r\n",
        "    # Weird shit going on\r\n",
        "    if np.abs(out + 1) < 0.01 or out < -1.0:\r\n",
        "        return 0.0\r\n",
        "    else:\r\n",
        "        return out"
      ],
      "execution_count": null,
      "outputs": []
    },
    {
      "cell_type": "code",
      "metadata": {
        "colab": {
          "base_uri": "https://localhost:8080/"
        },
        "id": "s7N1VJaKG71G",
        "outputId": "ba795fb3-f7bf-4929-e92a-80469d0a9d3e"
      },
      "source": [
        "space = [(1, 100), # epochs\r\n",
        "         (10**-3, 1.0, 'log-uniform'), # learning_rate\r\n",
        "         (20, 200), # no_components\r\n",
        "         (10**-5, 10**-3, 'log-uniform'), # item_alpha\r\n",
        "         (0.001, 1., 'log-uniform') # user_scaling\r\n",
        "        ]\r\n",
        "\r\n",
        "res_fm_itemfeat = forest_minimize(objective_wsideinfo, \r\n",
        "                                  space, \r\n",
        "                                  n_calls=20,\r\n",
        "                                  random_state=0,\r\n",
        "                                  verbose=True)"
      ],
      "execution_count": null,
      "outputs": [
        {
          "output_type": "stream",
          "text": [
            "\rEpoch:   0%|          | 0/48 [00:00<?, ?it/s]"
          ],
          "name": "stderr"
        },
        {
          "output_type": "stream",
          "text": [
            "Iteration No: 1 started. Evaluating function at random point.\n"
          ],
          "name": "stdout"
        },
        {
          "output_type": "stream",
          "text": [
            "Epoch: 100%|██████████| 48/48 [00:25<00:00,  1.87it/s]\n",
            "Epoch:   0%|          | 0/84 [00:00<?, ?it/s]"
          ],
          "name": "stderr"
        },
        {
          "output_type": "stream",
          "text": [
            "Iteration No: 1 ended. Evaluation done at random point.\n",
            "Time taken: 26.0750\n",
            "Function value obtained: -0.0873\n",
            "Current minimum: -0.0873\n",
            "Iteration No: 2 started. Evaluating function at random point.\n"
          ],
          "name": "stdout"
        },
        {
          "output_type": "stream",
          "text": [
            "Epoch: 100%|██████████| 84/84 [00:21<00:00,  3.84it/s]\n",
            "Epoch:   0%|          | 0/13 [00:00<?, ?it/s]"
          ],
          "name": "stderr"
        },
        {
          "output_type": "stream",
          "text": [
            "Iteration No: 2 ended. Evaluation done at random point.\n",
            "Time taken: 22.1667\n",
            "Function value obtained: -0.0798\n",
            "Current minimum: -0.0873\n",
            "Iteration No: 3 started. Evaluating function at random point.\n"
          ],
          "name": "stdout"
        },
        {
          "output_type": "stream",
          "text": [
            "Epoch: 100%|██████████| 13/13 [00:06<00:00,  1.98it/s]\n",
            "Epoch:   0%|          | 0/38 [00:00<?, ?it/s]"
          ],
          "name": "stderr"
        },
        {
          "output_type": "stream",
          "text": [
            "Iteration No: 3 ended. Evaluation done at random point.\n",
            "Time taken: 6.9055\n",
            "Function value obtained: -0.1125\n",
            "Current minimum: -0.1125\n",
            "Iteration No: 4 started. Evaluating function at random point.\n"
          ],
          "name": "stdout"
        },
        {
          "output_type": "stream",
          "text": [
            "Epoch: 100%|██████████| 38/38 [00:29<00:00,  1.27it/s]\n",
            "Epoch:   0%|          | 0/70 [00:00<?, ?it/s]"
          ],
          "name": "stderr"
        },
        {
          "output_type": "stream",
          "text": [
            "Iteration No: 4 ended. Evaluation done at random point.\n",
            "Time taken: 30.3207\n",
            "Function value obtained: -0.0187\n",
            "Current minimum: -0.1125\n",
            "Iteration No: 5 started. Evaluating function at random point.\n"
          ],
          "name": "stdout"
        },
        {
          "output_type": "stream",
          "text": [
            "Epoch: 100%|██████████| 70/70 [01:49<00:00,  1.57s/it]\n",
            "Epoch:   0%|          | 0/50 [00:00<?, ?it/s]"
          ],
          "name": "stderr"
        },
        {
          "output_type": "stream",
          "text": [
            "Iteration No: 5 ended. Evaluation done at random point.\n",
            "Time taken: 110.7590\n",
            "Function value obtained: -0.0257\n",
            "Current minimum: -0.1125\n",
            "Iteration No: 6 started. Evaluating function at random point.\n"
          ],
          "name": "stdout"
        },
        {
          "output_type": "stream",
          "text": [
            "Epoch: 100%|██████████| 50/50 [00:37<00:00,  1.32it/s]\n",
            "Epoch:   0%|          | 0/66 [00:00<?, ?it/s]"
          ],
          "name": "stderr"
        },
        {
          "output_type": "stream",
          "text": [
            "Iteration No: 6 ended. Evaluation done at random point.\n",
            "Time taken: 38.5936\n",
            "Function value obtained: -0.0848\n",
            "Current minimum: -0.1125\n",
            "Iteration No: 7 started. Evaluating function at random point.\n"
          ],
          "name": "stdout"
        },
        {
          "output_type": "stream",
          "text": [
            "Epoch: 100%|██████████| 66/66 [01:22<00:00,  1.26s/it]\n",
            "Epoch:   0%|          | 0/24 [00:00<?, ?it/s]"
          ],
          "name": "stderr"
        },
        {
          "output_type": "stream",
          "text": [
            "Iteration No: 7 ended. Evaluation done at random point.\n",
            "Time taken: 83.6669\n",
            "Function value obtained: -0.0701\n",
            "Current minimum: -0.1125\n",
            "Iteration No: 8 started. Evaluating function at random point.\n"
          ],
          "name": "stdout"
        },
        {
          "output_type": "stream",
          "text": [
            "Epoch: 100%|██████████| 24/24 [00:27<00:00,  1.13s/it]\n",
            "Epoch:   0%|          | 0/1 [00:00<?, ?it/s]"
          ],
          "name": "stderr"
        },
        {
          "output_type": "stream",
          "text": [
            "Iteration No: 8 ended. Evaluation done at random point.\n",
            "Time taken: 27.7861\n",
            "Function value obtained: -0.0813\n",
            "Current minimum: -0.1125\n",
            "Iteration No: 9 started. Evaluating function at random point.\n"
          ],
          "name": "stdout"
        },
        {
          "output_type": "stream",
          "text": [
            "Epoch: 100%|██████████| 1/1 [00:01<00:00,  1.36s/it]\n",
            "Epoch:   0%|          | 0/80 [00:00<?, ?it/s]"
          ],
          "name": "stderr"
        },
        {
          "output_type": "stream",
          "text": [
            "Iteration No: 9 ended. Evaluation done at random point.\n",
            "Time taken: 2.1330\n",
            "Function value obtained: -0.0245\n",
            "Current minimum: -0.1125\n",
            "Iteration No: 10 started. Evaluating function at random point.\n"
          ],
          "name": "stdout"
        },
        {
          "output_type": "stream",
          "text": [
            "Epoch: 100%|██████████| 80/80 [00:43<00:00,  1.82it/s]\n",
            "Epoch:   0%|          | 0/9 [00:00<?, ?it/s]"
          ],
          "name": "stderr"
        },
        {
          "output_type": "stream",
          "text": [
            "Iteration No: 10 ended. Evaluation done at random point.\n",
            "Time taken: 44.4355\n",
            "Function value obtained: -0.0174\n",
            "Current minimum: -0.1125\n",
            "Iteration No: 11 started. Searching for the next optimal point.\n"
          ],
          "name": "stdout"
        },
        {
          "output_type": "stream",
          "text": [
            "Epoch: 100%|██████████| 9/9 [00:04<00:00,  1.90it/s]\n",
            "Epoch:   0%|          | 0/14 [00:00<?, ?it/s]"
          ],
          "name": "stderr"
        },
        {
          "output_type": "stream",
          "text": [
            "Iteration No: 11 ended. Search finished for the next optimal point.\n",
            "Time taken: 5.2693\n",
            "Function value obtained: -0.0943\n",
            "Current minimum: -0.1125\n",
            "Iteration No: 12 started. Searching for the next optimal point.\n"
          ],
          "name": "stdout"
        },
        {
          "output_type": "stream",
          "text": [
            "Epoch: 100%|██████████| 14/14 [00:05<00:00,  2.39it/s]\n",
            "Epoch:   0%|          | 0/1 [00:00<?, ?it/s]"
          ],
          "name": "stderr"
        },
        {
          "output_type": "stream",
          "text": [
            "Iteration No: 12 ended. Search finished for the next optimal point.\n",
            "Time taken: 6.3214\n",
            "Function value obtained: -0.1127\n",
            "Current minimum: -0.1127\n",
            "Iteration No: 13 started. Searching for the next optimal point.\n"
          ],
          "name": "stdout"
        },
        {
          "output_type": "stream",
          "text": [
            "Epoch: 100%|██████████| 1/1 [00:00<00:00,  2.46it/s]\n",
            "Epoch:   0%|          | 0/15 [00:00<?, ?it/s]"
          ],
          "name": "stderr"
        },
        {
          "output_type": "stream",
          "text": [
            "Iteration No: 13 ended. Search finished for the next optimal point.\n",
            "Time taken: 0.8708\n",
            "Function value obtained: -0.0332\n",
            "Current minimum: -0.1127\n",
            "Iteration No: 14 started. Searching for the next optimal point.\n"
          ],
          "name": "stdout"
        },
        {
          "output_type": "stream",
          "text": [
            "Epoch: 100%|██████████| 15/15 [00:04<00:00,  3.43it/s]\n",
            "Epoch:   0%|          | 0/11 [00:00<?, ?it/s]"
          ],
          "name": "stderr"
        },
        {
          "output_type": "stream",
          "text": [
            "Iteration No: 14 ended. Search finished for the next optimal point.\n",
            "Time taken: 4.7609\n",
            "Function value obtained: -0.0908\n",
            "Current minimum: -0.1127\n",
            "Iteration No: 15 started. Searching for the next optimal point.\n"
          ],
          "name": "stdout"
        },
        {
          "output_type": "stream",
          "text": [
            "Epoch: 100%|██████████| 11/11 [00:05<00:00,  1.99it/s]\n",
            "Epoch:   0%|          | 0/11 [00:00<?, ?it/s]"
          ],
          "name": "stderr"
        },
        {
          "output_type": "stream",
          "text": [
            "Iteration No: 15 ended. Search finished for the next optimal point.\n",
            "Time taken: 6.0338\n",
            "Function value obtained: -0.1117\n",
            "Current minimum: -0.1127\n",
            "Iteration No: 16 started. Searching for the next optimal point.\n"
          ],
          "name": "stdout"
        },
        {
          "output_type": "stream",
          "text": [
            "Epoch: 100%|██████████| 11/11 [00:02<00:00,  5.32it/s]\n",
            "Epoch:   0%|          | 0/3 [00:00<?, ?it/s]"
          ],
          "name": "stderr"
        },
        {
          "output_type": "stream",
          "text": [
            "Iteration No: 16 ended. Search finished for the next optimal point.\n",
            "Time taken: 2.3962\n",
            "Function value obtained: -0.1422\n",
            "Current minimum: -0.1422\n",
            "Iteration No: 17 started. Searching for the next optimal point.\n"
          ],
          "name": "stdout"
        },
        {
          "output_type": "stream",
          "text": [
            "Epoch: 100%|██████████| 3/3 [00:01<00:00,  2.55it/s]\n",
            "Epoch:   0%|          | 0/4 [00:00<?, ?it/s]"
          ],
          "name": "stderr"
        },
        {
          "output_type": "stream",
          "text": [
            "Iteration No: 17 ended. Search finished for the next optimal point.\n",
            "Time taken: 1.7065\n",
            "Function value obtained: -0.1513\n",
            "Current minimum: -0.1513\n",
            "Iteration No: 18 started. Searching for the next optimal point.\n"
          ],
          "name": "stdout"
        },
        {
          "output_type": "stream",
          "text": [
            "Epoch: 100%|██████████| 4/4 [00:01<00:00,  3.15it/s]\n",
            "Epoch:   0%|          | 0/2 [00:00<?, ?it/s]"
          ],
          "name": "stderr"
        },
        {
          "output_type": "stream",
          "text": [
            "Iteration No: 18 ended. Search finished for the next optimal point.\n",
            "Time taken: 1.6888\n",
            "Function value obtained: -0.0223\n",
            "Current minimum: -0.1513\n",
            "Iteration No: 19 started. Searching for the next optimal point.\n"
          ],
          "name": "stdout"
        },
        {
          "output_type": "stream",
          "text": [
            "Epoch: 100%|██████████| 2/2 [00:00<00:00,  2.71it/s]\n",
            "Epoch:   0%|          | 0/4 [00:00<?, ?it/s]"
          ],
          "name": "stderr"
        },
        {
          "output_type": "stream",
          "text": [
            "Iteration No: 19 ended. Search finished for the next optimal point.\n",
            "Time taken: 1.1952\n",
            "Function value obtained: -0.1321\n",
            "Current minimum: -0.1513\n",
            "Iteration No: 20 started. Searching for the next optimal point.\n"
          ],
          "name": "stdout"
        },
        {
          "output_type": "stream",
          "text": [
            "Epoch: 100%|██████████| 4/4 [00:01<00:00,  2.74it/s]\n"
          ],
          "name": "stderr"
        },
        {
          "output_type": "stream",
          "text": [
            "Iteration No: 20 ended. Search finished for the next optimal point.\n",
            "Time taken: 1.9209\n",
            "Function value obtained: -0.1343\n",
            "Current minimum: -0.1513\n"
          ],
          "name": "stdout"
        }
      ]
    },
    {
      "cell_type": "code",
      "metadata": {
        "colab": {
          "base_uri": "https://localhost:8080/"
        },
        "id": "YDCwUY36dthw",
        "outputId": "4b9bc3fd-1c34-4de9-ac0b-f292a4c22230"
      },
      "source": [
        "print('Maximimum p@k found: {:6.5f}'.format(-res_fm_itemfeat.fun))\r\n",
        "print('Optimal parameters:')\r\n",
        "params = ['epochs', 'learning_rate', 'no_components', 'item_alpha', 'scaling']\r\n",
        "for (p, x_) in zip(params, res_fm_itemfeat.x):\r\n",
        "    print('{}: {}'.format(p, x_))"
      ],
      "execution_count": null,
      "outputs": [
        {
          "output_type": "stream",
          "text": [
            "Maximimum p@k found: 0.15130\n",
            "Optimal parameters:\n",
            "epochs: 3\n",
            "learning_rate: 0.06530550430270628\n",
            "no_components: 47\n",
            "item_alpha: 1.9366747805310405e-05\n",
            "scaling: 0.42496904680239794\n"
          ],
          "name": "stdout"
        }
      ]
    },
    {
      "cell_type": "markdown",
      "metadata": {
        "id": "4kRZxHYWEFj3"
      },
      "source": [
        "# Training on full data"
      ]
    },
    {
      "cell_type": "code",
      "metadata": {
        "colab": {
          "base_uri": "https://localhost:8080/"
        },
        "id": "VZexgG_ON6t3",
        "outputId": "bb1d3a2d-3724-4a0e-fd25-c75b754eb6c4"
      },
      "source": [
        "model_optimized = LightFM(loss='warp',\r\n",
        "                          random_state=2020,\r\n",
        "                          learning_rate=0.065,\r\n",
        "                          no_components=47,\r\n",
        "                          user_alpha=0.424,\r\n",
        "                          item_alpha=0.00001)\r\n",
        "\r\n",
        "model_optimized.fit(interactions,\r\n",
        "                    user_features=user_features,\r\n",
        "                    item_features=item_features,\r\n",
        "                    sample_weight=weights,\r\n",
        "                    num_threads=4, \r\n",
        "                    epochs=3,\r\n",
        "                    verbose=True)"
      ],
      "execution_count": null,
      "outputs": [
        {
          "output_type": "stream",
          "text": [
            "Epoch: 100%|██████████| 169/169 [03:51<00:00,  1.37s/it]\n"
          ],
          "name": "stderr"
        },
        {
          "output_type": "execute_result",
          "data": {
            "text/plain": [
              "<lightfm.lightfm.LightFM at 0x7f6b3c0a1748>"
            ]
          },
          "metadata": {
            "tags": []
          },
          "execution_count": 125
        }
      ]
    },
    {
      "cell_type": "markdown",
      "metadata": {
        "id": "oOBXYIiXV0Em"
      },
      "source": [
        "# Predictions"
      ]
    },
    {
      "cell_type": "code",
      "metadata": {
        "id": "eGp7EJlWVWqC"
      },
      "source": [
        "#List of users to predict\r\n",
        "users_to_predict = pd.DataFrame(data.HCP_id.drop_duplicates(keep='first'))"
      ],
      "execution_count": null,
      "outputs": []
    },
    {
      "cell_type": "markdown",
      "metadata": {
        "id": "HFVlLgn2zurt"
      },
      "source": [
        "## Any message can be predicted"
      ]
    },
    {
      "cell_type": "code",
      "metadata": {
        "colab": {
          "base_uri": "https://localhost:8080/"
        },
        "id": "6bVLxY0Kp9j7",
        "outputId": "5c38af15-63c7-48a6-9c9f-19441c060537"
      },
      "source": [
        "n_users, n_items = interactions.shape\r\n",
        "cant_items_predict = 5\r\n",
        "list_items = np.arange(n_items)\r\n",
        "\r\n",
        "li = []\r\n",
        "users = []\r\n",
        "total = len(users_to_predict)\r\n",
        "for row in tqdm(users_to_predict.itertuples(index=False), total=total, position=0, leave=True):\r\n",
        "    # Obtengo el mapeo del usuario\r\n",
        "    user_id = row.HCP_id\r\n",
        "    user_x = user_id_map[user_id]\r\n",
        "    # Prescripcion con anteriores\r\n",
        "    scores = model_optimized2.predict(user_x, list_items) # means predict for all \r\n",
        "    top_items = list_items[np.argsort(-scores)][:cant_items_predict]\r\n",
        "    # Creo las listas de usuarios y recomendaciones\r\n",
        "    li.extend(list(top_items))\r\n",
        "    users.extend([user_id]*cant_items_predict)"
      ],
      "execution_count": null,
      "outputs": [
        {
          "output_type": "stream",
          "text": [
            "100%|██████████| 8349/8349 [00:01<00:00, 4204.28it/s]\n"
          ],
          "name": "stderr"
        }
      ]
    },
    {
      "cell_type": "code",
      "metadata": {
        "id": "tE4LAkYhcAWL",
        "colab": {
          "base_uri": "https://localhost:8080/",
          "height": 419
        },
        "outputId": "45da2ed4-b307-4a1e-c8aa-fdbc8adb96ad"
      },
      "source": [
        "recomendacion = pd.DataFrame(list(zip(li,users)), \r\n",
        "               columns =['Message_id', 'HCP_id'])\r\n",
        "recomendacion"
      ],
      "execution_count": null,
      "outputs": [
        {
          "output_type": "execute_result",
          "data": {
            "text/html": [
              "<div>\n",
              "<style scoped>\n",
              "    .dataframe tbody tr th:only-of-type {\n",
              "        vertical-align: middle;\n",
              "    }\n",
              "\n",
              "    .dataframe tbody tr th {\n",
              "        vertical-align: top;\n",
              "    }\n",
              "\n",
              "    .dataframe thead th {\n",
              "        text-align: right;\n",
              "    }\n",
              "</style>\n",
              "<table border=\"1\" class=\"dataframe\">\n",
              "  <thead>\n",
              "    <tr style=\"text-align: right;\">\n",
              "      <th></th>\n",
              "      <th>Message_id</th>\n",
              "      <th>HCP_id</th>\n",
              "    </tr>\n",
              "  </thead>\n",
              "  <tbody>\n",
              "    <tr>\n",
              "      <th>0</th>\n",
              "      <td>31</td>\n",
              "      <td>3569</td>\n",
              "    </tr>\n",
              "    <tr>\n",
              "      <th>1</th>\n",
              "      <td>71</td>\n",
              "      <td>3569</td>\n",
              "    </tr>\n",
              "    <tr>\n",
              "      <th>2</th>\n",
              "      <td>72</td>\n",
              "      <td>3569</td>\n",
              "    </tr>\n",
              "    <tr>\n",
              "      <th>3</th>\n",
              "      <td>99</td>\n",
              "      <td>3569</td>\n",
              "    </tr>\n",
              "    <tr>\n",
              "      <th>4</th>\n",
              "      <td>96</td>\n",
              "      <td>3569</td>\n",
              "    </tr>\n",
              "    <tr>\n",
              "      <th>...</th>\n",
              "      <td>...</td>\n",
              "      <td>...</td>\n",
              "    </tr>\n",
              "    <tr>\n",
              "      <th>41740</th>\n",
              "      <td>62</td>\n",
              "      <td>7477</td>\n",
              "    </tr>\n",
              "    <tr>\n",
              "      <th>41741</th>\n",
              "      <td>80</td>\n",
              "      <td>7477</td>\n",
              "    </tr>\n",
              "    <tr>\n",
              "      <th>41742</th>\n",
              "      <td>71</td>\n",
              "      <td>7477</td>\n",
              "    </tr>\n",
              "    <tr>\n",
              "      <th>41743</th>\n",
              "      <td>99</td>\n",
              "      <td>7477</td>\n",
              "    </tr>\n",
              "    <tr>\n",
              "      <th>41744</th>\n",
              "      <td>6</td>\n",
              "      <td>7477</td>\n",
              "    </tr>\n",
              "  </tbody>\n",
              "</table>\n",
              "<p>41745 rows × 2 columns</p>\n",
              "</div>"
            ],
            "text/plain": [
              "       Message_id  HCP_id\n",
              "0              31    3569\n",
              "1              71    3569\n",
              "2              72    3569\n",
              "3              99    3569\n",
              "4              96    3569\n",
              "...           ...     ...\n",
              "41740          62    7477\n",
              "41741          80    7477\n",
              "41742          71    7477\n",
              "41743          99    7477\n",
              "41744           6    7477\n",
              "\n",
              "[41745 rows x 2 columns]"
            ]
          },
          "metadata": {
            "tags": []
          },
          "execution_count": 116
        }
      ]
    },
    {
      "cell_type": "code",
      "metadata": {
        "id": "u8Cv8ioRQRHy"
      },
      "source": [
        "recomendacion.to_csv('/content/drive/MyDrive/Bayer/recomendacion_repetidos.csv', index = False)"
      ],
      "execution_count": null,
      "outputs": []
    },
    {
      "cell_type": "markdown",
      "metadata": {
        "id": "RgtWJSZ1zrgM"
      },
      "source": [
        "## Without sending messages that had been sent before"
      ]
    },
    {
      "cell_type": "code",
      "metadata": {
        "colab": {
          "base_uri": "https://localhost:8080/"
        },
        "id": "dklVk_-TXpHV",
        "outputId": "ad4c7130-2a95-4f56-f326-8a1796238f05"
      },
      "source": [
        "n_users, n_items = interactions.shape\r\n",
        "cant_items_predict = 5\r\n",
        "list_items = np.arange(n_items)\r\n",
        "\r\n",
        "li = []\r\n",
        "users = []\r\n",
        "total = len(users_to_predict)\r\n",
        "for row in tqdm(users_to_predict.itertuples(index=False), total=total, position=0, leave=True):\r\n",
        "    # Obtengo el mapeo del usuario\r\n",
        "    user_id = row.HCP_id\r\n",
        "    user_x = user_id_map[user_id]\r\n",
        "\r\n",
        "    # Elimino de la lista de prediccion todos los elementos que ya se enviaron\r\n",
        "    items_sent = data.loc[data.HCP_id == user_id,'Message_id'].tolist()\r\n",
        "    items_sent_mapped = [item_id_map[i] for i in items_sent]\r\n",
        "    list_items_predict = np.array([item for item in data['Message_id'].unique() if item not in items_sent])\r\n",
        "    list_items_predict_mapped = list_items[~np.isin(list_items, items_sent_mapped)]\r\n",
        "\r\n",
        "    # Calculo de la prescripcion\r\n",
        "    scores = model_optimized.predict(user_x, list_items_predict_mapped) # means predict for all \r\n",
        "    top_items = list_items_predict[np.argsort(-scores)][:cant_items_predict]\r\n",
        "  \r\n",
        "    # Creo las listas de usuarios y recomendaciones\r\n",
        "    li.extend(list(top_items))\r\n",
        "    users.extend([user_id]*cant_items_predict)"
      ],
      "execution_count": null,
      "outputs": [
        {
          "output_type": "stream",
          "text": [
            "100%|██████████| 8349/8349 [00:13<00:00, 601.18it/s]\n"
          ],
          "name": "stderr"
        }
      ]
    },
    {
      "cell_type": "code",
      "metadata": {
        "colab": {
          "base_uri": "https://localhost:8080/",
          "height": 419
        },
        "id": "5RCJ9-8iqDjJ",
        "outputId": "7f9d0414-bfca-415e-b1c9-190d59df9cb8"
      },
      "source": [
        "recomendacion = pd.DataFrame(list(zip(li,users)), \r\n",
        "               columns =['Message_id', 'HCP_id'])\r\n",
        "recomendacion"
      ],
      "execution_count": null,
      "outputs": [
        {
          "output_type": "execute_result",
          "data": {
            "text/html": [
              "<div>\n",
              "<style scoped>\n",
              "    .dataframe tbody tr th:only-of-type {\n",
              "        vertical-align: middle;\n",
              "    }\n",
              "\n",
              "    .dataframe tbody tr th {\n",
              "        vertical-align: top;\n",
              "    }\n",
              "\n",
              "    .dataframe thead th {\n",
              "        text-align: right;\n",
              "    }\n",
              "</style>\n",
              "<table border=\"1\" class=\"dataframe\">\n",
              "  <thead>\n",
              "    <tr style=\"text-align: right;\">\n",
              "      <th></th>\n",
              "      <th>Message_id</th>\n",
              "      <th>HCP_id</th>\n",
              "    </tr>\n",
              "  </thead>\n",
              "  <tbody>\n",
              "    <tr>\n",
              "      <th>0</th>\n",
              "      <td>49</td>\n",
              "      <td>3569</td>\n",
              "    </tr>\n",
              "    <tr>\n",
              "      <th>1</th>\n",
              "      <td>22</td>\n",
              "      <td>3569</td>\n",
              "    </tr>\n",
              "    <tr>\n",
              "      <th>2</th>\n",
              "      <td>93</td>\n",
              "      <td>3569</td>\n",
              "    </tr>\n",
              "    <tr>\n",
              "      <th>3</th>\n",
              "      <td>15</td>\n",
              "      <td>3569</td>\n",
              "    </tr>\n",
              "    <tr>\n",
              "      <th>4</th>\n",
              "      <td>29</td>\n",
              "      <td>3569</td>\n",
              "    </tr>\n",
              "    <tr>\n",
              "      <th>...</th>\n",
              "      <td>...</td>\n",
              "      <td>...</td>\n",
              "    </tr>\n",
              "    <tr>\n",
              "      <th>41740</th>\n",
              "      <td>49</td>\n",
              "      <td>7477</td>\n",
              "    </tr>\n",
              "    <tr>\n",
              "      <th>41741</th>\n",
              "      <td>22</td>\n",
              "      <td>7477</td>\n",
              "    </tr>\n",
              "    <tr>\n",
              "      <th>41742</th>\n",
              "      <td>93</td>\n",
              "      <td>7477</td>\n",
              "    </tr>\n",
              "    <tr>\n",
              "      <th>41743</th>\n",
              "      <td>15</td>\n",
              "      <td>7477</td>\n",
              "    </tr>\n",
              "    <tr>\n",
              "      <th>41744</th>\n",
              "      <td>29</td>\n",
              "      <td>7477</td>\n",
              "    </tr>\n",
              "  </tbody>\n",
              "</table>\n",
              "<p>41745 rows × 2 columns</p>\n",
              "</div>"
            ],
            "text/plain": [
              "       Message_id  HCP_id\n",
              "0              49    3569\n",
              "1              22    3569\n",
              "2              93    3569\n",
              "3              15    3569\n",
              "4              29    3569\n",
              "...           ...     ...\n",
              "41740          49    7477\n",
              "41741          22    7477\n",
              "41742          93    7477\n",
              "41743          15    7477\n",
              "41744          29    7477\n",
              "\n",
              "[41745 rows x 2 columns]"
            ]
          },
          "metadata": {
            "tags": []
          },
          "execution_count": 127
        }
      ]
    },
    {
      "cell_type": "code",
      "metadata": {
        "id": "OPs-XBtdQUB6"
      },
      "source": [
        "recomendacion.to_csv('/content/drive/MyDrive/Bayer/recomendacion_sin_repetidos.csv', index = False)"
      ],
      "execution_count": null,
      "outputs": []
    }
  ]
}